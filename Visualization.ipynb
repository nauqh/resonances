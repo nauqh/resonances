{
 "cells": [
  {
   "cell_type": "code",
   "execution_count": 1,
   "id": "bff8a035-790f-4036-9114-db0db8421fd4",
   "metadata": {},
   "outputs": [],
   "source": [
    "import pandas as pd\n",
    "from sklearn.preprocessing import StandardScaler"
   ]
  },
  {
   "cell_type": "code",
   "execution_count": 178,
   "id": "90830567-b843-468b-89c1-3942c57cc2a7",
   "metadata": {},
   "outputs": [],
   "source": [
    "tracks = pd.read_csv(\"D:/Study/Monash/FIT3162/Resonance/src/data/features.csv\")\n",
    "artists = pd.read_csv(\"D:/Study/Monash/FIT3162/Resonance/src/data/artists.csv\")"
   ]
  },
  {
   "cell_type": "code",
   "execution_count": 179,
   "id": "864a082b-c041-46c9-8224-47ff97d582be",
   "metadata": {},
   "outputs": [],
   "source": [
    "class Transform():\n",
    "    def __init__(self, df: pd.DataFrame):\n",
    "        self.df = df\n",
    "        \n",
    "    def __select_cols(self, df: pd.DataFrame):\n",
    "        return df[['id', 'danceability', 'energy', 'key', 'loudness', 'mode',\n",
    "               'speechiness', 'acousticness', 'instrumentalness', 'liveness', 'valence', 'tempo', 'popularity']]\n",
    "    \n",
    "    def __ohe(self, df: pd.DataFrame, column: str) -> pd.DataFrame:\n",
    "        return pd.get_dummies(df[column], prefix=column, dtype='int').reset_index(drop=True)\n",
    "\n",
    "    def __create_feature_set(self, df, float_cols) -> pd.DataFrame:\n",
    "        scaler = StandardScaler()\n",
    "    \n",
    "        # One-hot Encoding\n",
    "        key_ohe = ohe(df, 'key')\n",
    "        mode_ohe = ohe(df, 'mode')\n",
    "    \n",
    "        # Scale audio columns\n",
    "        floats = df[float_cols].reset_index(drop=True)\n",
    "        floats_scaled = pd.DataFrame(scaler.fit_transform(floats), columns=floats.columns)\n",
    "    \n",
    "        # Concanenate all features\n",
    "        final = pd.concat([floats_scaled, key_ohe, mode_ohe], axis=1)\n",
    "    \n",
    "        # Add song id and popularity\n",
    "        final.insert(0, \"id\", df['id'])\n",
    "        final['popularity'] = df['popularity']\n",
    "    \n",
    "        return final\n",
    "\n",
    "    def process(self):\n",
    "        floats = self.df.select_dtypes(include='float64').columns.values\n",
    "        self.df = select_cols(self.df)\n",
    "        new_df = create_feature_set(self.df, floats)\n",
    "        return new_df.sort_values(by='popularity', ascending=False).reset_index(drop=True)"
   ]
  },
  {
   "cell_type": "code",
   "execution_count": 180,
   "id": "f082daae-2565-419f-84d5-c7609ce4f7c4",
   "metadata": {},
   "outputs": [],
   "source": [
    "m = Transform(tracks)\n",
    "df = m.process()"
   ]
  },
  {
   "cell_type": "code",
   "execution_count": 181,
   "id": "13859a1e-b4c4-49c4-8925-8d6561638ddd",
   "metadata": {},
   "outputs": [],
   "source": [
    "audio_feats = df.loc[:, ~df.columns.isin(['id', 'popularity'])].columns.values\n",
    "dfs = df.tail(len(df)-1)\n",
    "df1 = df.head(1)"
   ]
  },
  {
   "cell_type": "markdown",
   "id": "e2efb3e3-3f81-43af-a628-5f4feec02f2b",
   "metadata": {},
   "source": [
    "### KNN Model"
   ]
  },
  {
   "cell_type": "code",
   "execution_count": 182,
   "id": "31e5a495-62aa-404c-af60-330004e0dd65",
   "metadata": {},
   "outputs": [
    {
     "data": {
      "text/html": [
       "<style>#sk-container-id-15 {color: black;}#sk-container-id-15 pre{padding: 0;}#sk-container-id-15 div.sk-toggleable {background-color: white;}#sk-container-id-15 label.sk-toggleable__label {cursor: pointer;display: block;width: 100%;margin-bottom: 0;padding: 0.3em;box-sizing: border-box;text-align: center;}#sk-container-id-15 label.sk-toggleable__label-arrow:before {content: \"▸\";float: left;margin-right: 0.25em;color: #696969;}#sk-container-id-15 label.sk-toggleable__label-arrow:hover:before {color: black;}#sk-container-id-15 div.sk-estimator:hover label.sk-toggleable__label-arrow:before {color: black;}#sk-container-id-15 div.sk-toggleable__content {max-height: 0;max-width: 0;overflow: hidden;text-align: left;background-color: #f0f8ff;}#sk-container-id-15 div.sk-toggleable__content pre {margin: 0.2em;color: black;border-radius: 0.25em;background-color: #f0f8ff;}#sk-container-id-15 input.sk-toggleable__control:checked~div.sk-toggleable__content {max-height: 200px;max-width: 100%;overflow: auto;}#sk-container-id-15 input.sk-toggleable__control:checked~label.sk-toggleable__label-arrow:before {content: \"▾\";}#sk-container-id-15 div.sk-estimator input.sk-toggleable__control:checked~label.sk-toggleable__label {background-color: #d4ebff;}#sk-container-id-15 div.sk-label input.sk-toggleable__control:checked~label.sk-toggleable__label {background-color: #d4ebff;}#sk-container-id-15 input.sk-hidden--visually {border: 0;clip: rect(1px 1px 1px 1px);clip: rect(1px, 1px, 1px, 1px);height: 1px;margin: -1px;overflow: hidden;padding: 0;position: absolute;width: 1px;}#sk-container-id-15 div.sk-estimator {font-family: monospace;background-color: #f0f8ff;border: 1px dotted black;border-radius: 0.25em;box-sizing: border-box;margin-bottom: 0.5em;}#sk-container-id-15 div.sk-estimator:hover {background-color: #d4ebff;}#sk-container-id-15 div.sk-parallel-item::after {content: \"\";width: 100%;border-bottom: 1px solid gray;flex-grow: 1;}#sk-container-id-15 div.sk-label:hover label.sk-toggleable__label {background-color: #d4ebff;}#sk-container-id-15 div.sk-serial::before {content: \"\";position: absolute;border-left: 1px solid gray;box-sizing: border-box;top: 0;bottom: 0;left: 50%;z-index: 0;}#sk-container-id-15 div.sk-serial {display: flex;flex-direction: column;align-items: center;background-color: white;padding-right: 0.2em;padding-left: 0.2em;position: relative;}#sk-container-id-15 div.sk-item {position: relative;z-index: 1;}#sk-container-id-15 div.sk-parallel {display: flex;align-items: stretch;justify-content: center;background-color: white;position: relative;}#sk-container-id-15 div.sk-item::before, #sk-container-id-15 div.sk-parallel-item::before {content: \"\";position: absolute;border-left: 1px solid gray;box-sizing: border-box;top: 0;bottom: 0;left: 50%;z-index: -1;}#sk-container-id-15 div.sk-parallel-item {display: flex;flex-direction: column;z-index: 1;position: relative;background-color: white;}#sk-container-id-15 div.sk-parallel-item:first-child::after {align-self: flex-end;width: 50%;}#sk-container-id-15 div.sk-parallel-item:last-child::after {align-self: flex-start;width: 50%;}#sk-container-id-15 div.sk-parallel-item:only-child::after {width: 0;}#sk-container-id-15 div.sk-dashed-wrapped {border: 1px dashed gray;margin: 0 0.4em 0.5em 0.4em;box-sizing: border-box;padding-bottom: 0.4em;background-color: white;}#sk-container-id-15 div.sk-label label {font-family: monospace;font-weight: bold;display: inline-block;line-height: 1.2em;}#sk-container-id-15 div.sk-label-container {text-align: center;}#sk-container-id-15 div.sk-container {/* jupyter's `normalize.less` sets `[hidden] { display: none; }` but bootstrap.min.css set `[hidden] { display: none !important; }` so we also need the `!important` here to be able to override the default hidden behavior on the sphinx rendered scikit-learn.org. See: https://github.com/scikit-learn/scikit-learn/issues/21755 */display: inline-block !important;position: relative;}#sk-container-id-15 div.sk-text-repr-fallback {display: none;}</style><div id=\"sk-container-id-15\" class=\"sk-top-container\"><div class=\"sk-text-repr-fallback\"><pre>NearestNeighbors()</pre><b>In a Jupyter environment, please rerun this cell to show the HTML representation or trust the notebook. <br />On GitHub, the HTML representation is unable to render, please try loading this page with nbviewer.org.</b></div><div class=\"sk-container\" hidden><div class=\"sk-item\"><div class=\"sk-estimator sk-toggleable\"><input class=\"sk-toggleable__control sk-hidden--visually\" id=\"sk-estimator-id-15\" type=\"checkbox\" checked><label for=\"sk-estimator-id-15\" class=\"sk-toggleable__label sk-toggleable__label-arrow\">NearestNeighbors</label><div class=\"sk-toggleable__content\"><pre>NearestNeighbors()</pre></div></div></div></div></div>"
      ],
      "text/plain": [
       "NearestNeighbors()"
      ]
     },
     "execution_count": 182,
     "metadata": {},
     "output_type": "execute_result"
    }
   ],
   "source": [
    "from sklearn.neighbors import NearestNeighbors\n",
    "\n",
    "neigh = NearestNeighbors()\n",
    "neigh.fit(dfs[audio_feats].to_numpy())"
   ]
  },
  {
   "cell_type": "code",
   "execution_count": 183,
   "id": "1fc0dca8-abd6-4f1a-880a-c8f3384b5bf7",
   "metadata": {},
   "outputs": [],
   "source": [
    "n_neighbors = neigh.kneighbors(df1[audio_feats].to_numpy(), n_neighbors=5, return_distance=False)[0]"
   ]
  },
  {
   "cell_type": "code",
   "execution_count": 187,
   "id": "5e53c3e9-0622-4580-8093-791f3af61074",
   "metadata": {},
   "outputs": [
    {
     "data": {
      "text/plain": [
       "['1DsVpqnIPZCV1YKdMragRL',\n",
       " '136J2Jkg8sG7P5wilO9P1R',\n",
       " '39ZVkOVxjG8ypNdUSVNkxU',\n",
       " '6N1K5OVVCopBjGViHs2IvP',\n",
       " '1Y3Lv6ul3BeSQltSAfwZdo']"
      ]
     },
     "execution_count": 187,
     "metadata": {},
     "output_type": "execute_result"
    }
   ],
   "source": [
    "ids = dfs.iloc[n_neighbors]['id'].tolist()"
   ]
  },
  {
   "cell_type": "code",
   "execution_count": 7,
   "id": "484b0ad3-e8f9-4cd7-b007-4d78825aa7ef",
   "metadata": {},
   "outputs": [
    {
     "data": {
      "text/plain": [
       "2294"
      ]
     },
     "execution_count": 7,
     "metadata": {},
     "output_type": "execute_result"
    }
   ],
   "source": [
    "df = pd.read_csv(\"D:\\Laboratory\\Study\\Monash\\FIT3162\\Resonance\\data\\Spotify Top Hits\\cleaned_track_data.csv\")\n",
    "len(df)"
   ]
  },
  {
   "cell_type": "code",
   "execution_count": null,
   "id": "f671fe39-daec-4192-b3a4-5c8d04ee563a",
   "metadata": {},
   "outputs": [],
   "source": []
  }
 ],
 "metadata": {
  "kernelspec": {
   "display_name": "Python 3 (ipykernel)",
   "language": "python",
   "name": "python3"
  },
  "language_info": {
   "codemirror_mode": {
    "name": "ipython",
    "version": 3
   },
   "file_extension": ".py",
   "mimetype": "text/x-python",
   "name": "python",
   "nbconvert_exporter": "python",
   "pygments_lexer": "ipython3",
   "version": "3.11.4"
  }
 },
 "nbformat": 4,
 "nbformat_minor": 5
}
