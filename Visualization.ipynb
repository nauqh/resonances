{
 "cells": [
  {
   "cell_type": "code",
   "execution_count": 154,
   "id": "56d1e382-7858-437c-a99f-ee4d1c860e25",
   "metadata": {},
   "outputs": [],
   "source": [
    "import pandas as pd\n",
    "from sklearn.preprocessing import StandardScaler\n",
    "from sklearn.neighbors import NearestNeighbors\n",
    "\n",
    "\n",
    "def select_cols(df: pd.DataFrame, cols_to_select: list):\n",
    "    if not set(cols_to_select).issubset(df.columns):\n",
    "        raise ValueError(\"Columns to select do not exist in the DataFrame.\")\n",
    "    return df[cols_to_select]\n",
    "\n",
    "\n",
    "def ohe(df: pd.DataFrame, column: str) -> pd.DataFrame:\n",
    "    return pd.get_dummies(df[column], prefix=column, dtype='int').reset_index(drop=True)\n",
    "\n",
    "\n",
    "def create_feature_set(df, float_cols) -> pd.DataFrame:\n",
    "    scaler = StandardScaler()\n",
    "\n",
    "    # One-hot Encoding\n",
    "    key_ohe = ohe(df, 'key')\n",
    "    mode_ohe = ohe(df, 'mode')\n",
    "\n",
    "    # Scale audio columns\n",
    "    floats = df[float_cols].reset_index(drop=True)\n",
    "    floats_scaled = pd.DataFrame(\n",
    "        scaler.fit_transform(floats), columns=floats.columns)\n",
    "\n",
    "    # Concatenate all features\n",
    "    final = pd.concat([floats_scaled, key_ohe, mode_ohe], axis=1)\n",
    "\n",
    "    # Add song id and popularity\n",
    "    final.insert(0, \"id\", df['id'])\n",
    "    final['popularity'] = df['popularity']\n",
    "\n",
    "    return final\n",
    "\n",
    "\n",
    "def process(df):\n",
    "    df['mode'] = df['mode'].astype(int)\n",
    "    df['key'] = df['key'].astype(int)\n",
    "    floats = ['danceability', 'energy', 'key', 'loudness', 'mode', 'speechiness', 'acousticness',\n",
    "              'instrumentalness', 'liveness', 'valence', 'tempo', 'duration_ms', 'time_signature']\n",
    "\n",
    "    cols_to_select = ['id'] + floats + ['popularity']\n",
    "    df = select_cols(df, cols_to_select)\n",
    "    new_df = create_feature_set(df, floats)\n",
    "    return new_df.sort_values(by='popularity', ascending=False).reset_index(drop=True)\n",
    "\n",
    "\n",
    "class KNN():\n",
    "    def __init__(self, df: pd.DataFrame) -> None:\n",
    "        self.neigh = NearestNeighbors()\n",
    "        self.df = df\n",
    "\n",
    "    def recommend(self, playlist: pd.DataFrame):\n",
    "        audio_feats = self.df.columns.difference(['id', 'popularity'])\n",
    "\n",
    "        self.neigh.fit(self.df[audio_feats])\n",
    "\n",
    "        n_neighbors = self.neigh.kneighbors(\n",
    "            playlist[audio_feats], n_neighbors=10, return_distance=False)[0]\n",
    "        return self.df.iloc[n_neighbors]['id'].tolist()\n"
   ]
  },
  {
   "cell_type": "code",
   "execution_count": 155,
   "id": "55b2aafd-8e2b-47fd-86a9-4cfef2470f04",
   "metadata": {},
   "outputs": [],
   "source": [
    "df = pd.read_csv(\"D:/Laboratory/Study/Monash/FIT3162/Resonance/data/Spotify Top Hits/cleaned_track_data.csv\")\n",
    "df = df[df['error'].isna()]\n",
    "newdf = process(df)\n",
    "\n",
    "playlist = pd.read_csv(\"D:/Laboratory/Study/Monash/FIT3162/Resonance/src/data/features.csv\")\n",
    "playlist = process(playlist)"
   ]
  },
  {
   "cell_type": "code",
   "execution_count": 156,
   "id": "463bf334-6009-435c-a0d8-8afc57c27f4f",
   "metadata": {},
   "outputs": [
    {
     "data": {
      "text/plain": [
       "['7B1QliUMZv7gSTUGAfMRRD',\n",
       " '6lanRgr6wXibZr8KgzXxBl',\n",
       " '1zVhMuH7agsRe6XkljIY4U',\n",
       " '2f5N826udWfjT9iomeaBJt',\n",
       " '7GgWAITsYJaRM3r50rfh5w',\n",
       " '0qcr5FMsEO85NAQjrlDRKo',\n",
       " '7JIuqL4ZqkpfGKQhYlrirs',\n",
       " '46n2EGFnPC3tzWCN1Aqe26',\n",
       " '5ht9FVBi07F48ZAfIf7WdC',\n",
       " '57uX2vR9j9DNiANDYfXw1i']"
      ]
     },
     "execution_count": 156,
     "metadata": {},
     "output_type": "execute_result"
    }
   ],
   "source": [
    "knn = KNN(newdf)\n",
    "knn.recommend(playlist)"
   ]
  },
  {
   "cell_type": "code",
   "execution_count": null,
   "id": "36b04b13-4953-4851-bc49-4a7ecb08e630",
   "metadata": {},
   "outputs": [],
   "source": []
  }
 ],
 "metadata": {
  "kernelspec": {
   "display_name": "Python 3 (ipykernel)",
   "language": "python",
   "name": "python3"
  },
  "language_info": {
   "codemirror_mode": {
    "name": "ipython",
    "version": 3
   },
   "file_extension": ".py",
   "mimetype": "text/x-python",
   "name": "python",
   "nbconvert_exporter": "python",
   "pygments_lexer": "ipython3",
   "version": "3.11.4"
  }
 },
 "nbformat": 4,
 "nbformat_minor": 5
}
